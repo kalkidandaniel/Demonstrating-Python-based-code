{
 "cells": [
  {
   "cell_type": "markdown",
   "id": "69f79faa-ffd4-41fb-9e72-868a6efb4a36",
   "metadata": {},
   "source": [
    "## Automatic File Sorter In File Explorer"
   ]
  },
  {
   "cell_type": "code",
   "execution_count": 2,
   "id": "24232d48-caf0-414a-af9e-cbbc1dd51b11",
   "metadata": {},
   "outputs": [],
   "source": [
    "import os, shutil"
   ]
  },
  {
   "cell_type": "code",
   "execution_count": 3,
   "id": "09795924-4fbf-431a-8333-4c00fd796804",
   "metadata": {},
   "outputs": [],
   "source": [
    "path = r\"C:/Users/K A L K I D A N/OneDrive/Desktop/New folder/\""
   ]
  },
  {
   "cell_type": "code",
   "execution_count": 8,
   "id": "c77b69de-eeb9-4d0f-b4e0-d1ce9b47b301",
   "metadata": {},
   "outputs": [],
   "source": [
    "file_name = os.listdir(path)"
   ]
  },
  {
   "cell_type": "code",
   "execution_count": 9,
   "id": "8fb55435-d9cd-447d-913d-f3371f515c8b",
   "metadata": {},
   "outputs": [],
   "source": [
    "folder_names = ['image files','pdf files','text files']\n",
    "\n",
    "for loop in range(0,3):\n",
    "    if not os.path.exists(path + folder_names[loop]):\n",
    "        # print(path + folder_names[loop])\n",
    "        os.makedirs(path + folder_names[loop])\n",
    "\n",
    "for file in file_name:\n",
    "    if \".pdf\" in file and not os.path.exists(path + \"pdf files/\" + file):\n",
    "             shutil.move(path + file, path + \"pdf files/\" + file)\n",
    "    elif \".jfif\" in file and not os.path.exists(path + \"image files/\" + file):\n",
    "             shutil.move(path + file, path + \"image files/\" + file)\n",
    "    elif \".jpg\" in file and not os.path.exists(path + \"image files/\" + file):\n",
    "             shutil.move(path + file, path + \"image files/\" + file)\n",
    "    elif \".txt\" in file and not os.path.exists(path + \"text files/\" + file):\n",
    "             shutil.move(path + file, path + \"text files/\" + file)"
   ]
  },
  {
   "cell_type": "code",
   "execution_count": null,
   "id": "ce0095bb-b2f8-43ce-b883-612454a0ee59",
   "metadata": {},
   "outputs": [],
   "source": []
  },
  {
   "cell_type": "code",
   "execution_count": null,
   "id": "04b1041d-e012-4802-abc0-c68a9f0c1c58",
   "metadata": {},
   "outputs": [],
   "source": []
  },
  {
   "cell_type": "code",
   "execution_count": null,
   "id": "4411e90d-39a8-4294-a23a-4c0e3b51c8da",
   "metadata": {},
   "outputs": [],
   "source": []
  }
 ],
 "metadata": {
  "kernelspec": {
   "display_name": "Python 3 (ipykernel)",
   "language": "python",
   "name": "python3"
  },
  "language_info": {
   "codemirror_mode": {
    "name": "ipython",
    "version": 3
   },
   "file_extension": ".py",
   "mimetype": "text/x-python",
   "name": "python",
   "nbconvert_exporter": "python",
   "pygments_lexer": "ipython3",
   "version": "3.12.7"
  }
 },
 "nbformat": 4,
 "nbformat_minor": 5
}
